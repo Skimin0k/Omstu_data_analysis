{
 "cells": [
  {
   "cell_type": "markdown",
   "id": "continental-engine",
   "metadata": {},
   "source": [
    "# Tic-Tac-Toe Endgame Data Set"
   ]
  },
  {
   "cell_type": "markdown",
   "id": "south-admission",
   "metadata": {},
   "source": [
    "### Описание:  \n",
    "Набор данных описывает полный набор возможных конфигураций доски в конце игры в крестики-нолики, где X играет первым. (классификация) \n",
    "  \n",
    "URL: https://archive.ics.uci.edu/ml/datasets/Tic-Tac-Toe+Endgame"
   ]
  },
  {
   "cell_type": "markdown",
   "id": "vital-wedding",
   "metadata": {},
   "source": [
    "### Информация о признаках:  \n",
    "1. верхний левый квадрат: {x, o, b}  \n",
    "2. верхний средний квадрат: {x, o, b}  \n",
    "3. верхний правый квадрат: {x, o, b}  \n",
    "4. средний левый квадрат: {x, o, b}  \n",
    "5. средний квадрат: {x, o, b}  \n",
    "6. средний правый квадрат: {x, o, b}  \n",
    "7. нижний левый квадрат: {x , o, b}  \n",
    "8. нижний средний квадрат: {x, o, b}  \n",
    "9. нижний правый квадрат: {x, o, b}  \n",
    "10. Класс: {positive, negative} (целевой признак)"
   ]
  }
 ],
 "metadata": {
  "kernelspec": {
   "display_name": "Python 3",
   "language": "python",
   "name": "python3"
  },
  "language_info": {
   "codemirror_mode": {
    "name": "ipython",
    "version": 3
   },
   "file_extension": ".py",
   "mimetype": "text/x-python",
   "name": "python",
   "nbconvert_exporter": "python",
   "pygments_lexer": "ipython3",
   "version": "3.9.1"
  }
 },
 "nbformat": 4,
 "nbformat_minor": 5
}
