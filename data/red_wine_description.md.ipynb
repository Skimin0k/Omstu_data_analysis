{
 "cells": [
  {
   "cell_type": "markdown",
   "id": "flexible-bankruptcy",
   "metadata": {},
   "source": [
    "# Red Wine Quality"
   ]
  },
  {
   "cell_type": "markdown",
   "id": "institutional-likelihood",
   "metadata": {},
   "source": [
    "### Описание  \n",
    "Задание: На основе 11 различных параметров предсказать качество вина (регрессия)  \n",
    "  \n",
    "URL: https://www.kaggle.com/uciml/red-wine-quality-cortez-et-al-2009"
   ]
  },
  {
   "cell_type": "markdown",
   "id": "fifteen-saturday",
   "metadata": {},
   "source": [
    "### Информация о признаках  \n",
    "1  фиксированная кислотность  \n",
    "2  летучая кислотность  \n",
    "3  лимонная кислота  \n",
    "4  остаточный сахар  \n",
    "5  хлориды  \n",
    "6  свободный диоксид серы  \n",
    "7  общий диоксид серы  \n",
    "8  плотность  \n",
    "9  водородный показатель  \n",
    "10 сульфаты  \n",
    "11 спирт  \n",
    "12 качество ( целевой признак, оценка от 0 до 10)  "
   ]
  }
 ],
 "metadata": {
  "kernelspec": {
   "display_name": "Python 3",
   "language": "python",
   "name": "python3"
  },
  "language_info": {
   "codemirror_mode": {
    "name": "ipython",
    "version": 3
   },
   "file_extension": ".py",
   "mimetype": "text/x-python",
   "name": "python",
   "nbconvert_exporter": "python",
   "pygments_lexer": "ipython3",
   "version": "3.9.1"
  }
 },
 "nbformat": 4,
 "nbformat_minor": 5
}
