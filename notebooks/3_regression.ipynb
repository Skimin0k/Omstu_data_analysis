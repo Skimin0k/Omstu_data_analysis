{
 "cells": [
  {
   "cell_type": "code",
   "execution_count": 1,
   "id": "billion-explosion",
   "metadata": {},
   "outputs": [],
   "source": [
    "import pandas as pd\n",
    "from sklearn.model_selection import train_test_split\n",
    "from sklearn.preprocessing import StandardScaler\n",
    "import numpy as np\n",
    "import seaborn as sns\n",
    "import matplotlib.pyplot as plt\n",
    "from scipy import stats"
   ]
  },
  {
   "cell_type": "code",
   "execution_count": 2,
   "id": "processed-budapest",
   "metadata": {},
   "outputs": [],
   "source": [
    "data = pd.read_csv('concrete_compressive_strength_preprocessed.csv', delimiter=',', index_col=0)\n",
    "data.head()\n",
    "data = data[(np.abs(stats.zscore(data)) < 3).all(axis=1)]"
   ]
  },
  {
   "cell_type": "code",
   "execution_count": 3,
   "id": "proud-cleaning",
   "metadata": {},
   "outputs": [],
   "source": [
    "x = data.drop(columns=['Concrete compressive strength'])\n",
    "x_scaled = StandardScaler().fit(x).transform(x)"
   ]
  },
  {
   "cell_type": "code",
   "execution_count": 4,
   "id": "representative-channel",
   "metadata": {},
   "outputs": [],
   "source": [
    "x_train, x_test, y_train, y_test = train_test_split(x_scaled, data['Concrete compressive strength'], test_size = 0.20)"
   ]
  },
  {
   "cell_type": "markdown",
   "id": "pleasant-jaguar",
   "metadata": {},
   "source": [
    "# Линейная регрессия"
   ]
  },
  {
   "cell_type": "code",
   "execution_count": 5,
   "id": "earned-mercury",
   "metadata": {},
   "outputs": [],
   "source": [
    "from sklearn.linear_model import LinearRegression\n",
    "from sklearn.metrics import r2_score, mean_absolute_error, mean_squared_error\n",
    "from math import sqrt"
   ]
  },
  {
   "cell_type": "code",
   "execution_count": 6,
   "id": "committed-original",
   "metadata": {},
   "outputs": [],
   "source": [
    "model = LinearRegression()\n",
    "model.fit(x_train, y_train)\n",
    "y_pred = model.predict(x_test)"
   ]
  },
  {
   "cell_type": "code",
   "execution_count": 7,
   "id": "sapphire-network",
   "metadata": {},
   "outputs": [
    {
     "name": "stdout",
     "output_type": "stream",
     "text": [
      "R2: 0.6039382343405371\n",
      "Mean Square Error(MSE): 103.30647367801176\n",
      "Root Mean Square Error(RMSE): 10.16397922459564\n",
      "mean absolute error (MAE): 7.70966977943265\n"
     ]
    }
   ],
   "source": [
    "print ('R2:',r2_score(y_test, y_pred))\n",
    "print ('Mean Square Error(MSE):',mean_squared_error(y_test, y_pred, squared=True))\n",
    "print ('Root Mean Square Error(RMSE):',mean_squared_error(y_test, y_pred, squared=False))\n",
    "print ('mean absolute error (MAE):',mean_absolute_error(y_test, y_pred))"
   ]
  },
  {
   "cell_type": "markdown",
   "id": "alive-crazy",
   "metadata": {},
   "source": [
    "# Регрессия дерева решений"
   ]
  },
  {
   "cell_type": "code",
   "execution_count": 8,
   "id": "acting-valuable",
   "metadata": {},
   "outputs": [],
   "source": [
    "from sklearn.tree import DecisionTreeRegressor"
   ]
  },
  {
   "cell_type": "code",
   "execution_count": 9,
   "id": "fleet-imagination",
   "metadata": {},
   "outputs": [],
   "source": [
    "model = DecisionTreeRegressor(random_state=0)\n",
    "model.fit(x_train, y_train)\n",
    "y_pred = model.predict(x_test)"
   ]
  },
  {
   "cell_type": "code",
   "execution_count": 10,
   "id": "operating-printing",
   "metadata": {},
   "outputs": [
    {
     "name": "stdout",
     "output_type": "stream",
     "text": [
      "R2: 0.7594702418858628\n",
      "Mean Square Error(MSE): 62.7383991080861\n",
      "Root Mean Square Error(RMSE): 7.9207574832263425\n",
      "mean absolute error (MAE): 4.929401912239952\n"
     ]
    }
   ],
   "source": [
    "print ('R2:',r2_score(y_test, y_pred))\n",
    "print ('Mean Square Error(MSE):',mean_squared_error(y_test, y_pred, squared=True))\n",
    "print ('Root Mean Square Error(RMSE):',mean_squared_error(y_test, y_pred, squared=False))\n",
    "print ('mean absolute error (MAE):',mean_absolute_error(y_test, y_pred))"
   ]
  },
  {
   "cell_type": "markdown",
   "id": "outstanding-michigan",
   "metadata": {},
   "source": [
    "# LASSO"
   ]
  },
  {
   "cell_type": "code",
   "execution_count": 11,
   "id": "solid-single",
   "metadata": {},
   "outputs": [],
   "source": [
    "from sklearn.linear_model import Lasso"
   ]
  },
  {
   "cell_type": "code",
   "execution_count": 12,
   "id": "portable-wallpaper",
   "metadata": {},
   "outputs": [],
   "source": [
    "model = Lasso(alpha=1.0)\n",
    "model.fit(x_train, y_train)\n",
    "y_pred = model.predict(x_test)"
   ]
  },
  {
   "cell_type": "code",
   "execution_count": 13,
   "id": "patient-memorial",
   "metadata": {},
   "outputs": [
    {
     "name": "stdout",
     "output_type": "stream",
     "text": [
      "R2: 0.5985106810242586\n",
      "Mean Square Error(MSE): 104.72216547767471\n",
      "Root Mean Square Error(RMSE): 10.233384849485272\n",
      "mean absolute error (MAE): 7.9375369974890795\n"
     ]
    }
   ],
   "source": [
    "print ('R2:',r2_score(y_test, y_pred))\n",
    "print ('Mean Square Error(MSE):',mean_squared_error(y_test, y_pred, squared=True))\n",
    "print ('Root Mean Square Error(RMSE):',mean_squared_error(y_test, y_pred, squared=False))\n",
    "print ('mean absolute error (MAE):',mean_absolute_error(y_test, y_pred))"
   ]
  },
  {
   "cell_type": "markdown",
   "id": "liable-leone",
   "metadata": {},
   "source": [
    "# Гребневая регрессия"
   ]
  },
  {
   "cell_type": "code",
   "execution_count": 14,
   "id": "compliant-headquarters",
   "metadata": {},
   "outputs": [],
   "source": [
    "from sklearn.linear_model import Ridge"
   ]
  },
  {
   "cell_type": "code",
   "execution_count": 15,
   "id": "generic-entertainment",
   "metadata": {},
   "outputs": [],
   "source": [
    "model = Ridge(alpha=1.0)\n",
    "model.fit(x_train, y_train)\n",
    "y_pred = model.predict(x_test)"
   ]
  },
  {
   "cell_type": "code",
   "execution_count": 16,
   "id": "functioning-disposal",
   "metadata": {},
   "outputs": [
    {
     "name": "stdout",
     "output_type": "stream",
     "text": [
      "R2: 0.6042200563576277\n",
      "Mean Square Error(MSE): 103.23296484349456\n",
      "Root Mean Square Error(RMSE): 10.16036243662078\n",
      "mean absolute error (MAE): 7.7119817215525055\n"
     ]
    }
   ],
   "source": [
    "print ('R2:',r2_score(y_test, y_pred))\n",
    "print ('Mean Square Error(MSE):',mean_squared_error(y_test, y_pred, squared=True))\n",
    "print ('Root Mean Square Error(RMSE):',mean_squared_error(y_test, y_pred, squared=False))\n",
    "print ('mean absolute error (MAE):',mean_absolute_error(y_test, y_pred))"
   ]
  },
  {
   "cell_type": "markdown",
   "id": "organic-singer",
   "metadata": {},
   "source": [
    "# Elastic Net регрессия"
   ]
  },
  {
   "cell_type": "code",
   "execution_count": 17,
   "id": "united-warner",
   "metadata": {},
   "outputs": [],
   "source": [
    "from sklearn.linear_model import ElasticNetCV"
   ]
  },
  {
   "cell_type": "code",
   "execution_count": 18,
   "id": "instrumental-promotion",
   "metadata": {},
   "outputs": [],
   "source": [
    "model = ElasticNetCV(cv=5,random_state=0)\n",
    "model.fit(x_train, y_train)\n",
    "y_pred = model.predict(x_test)"
   ]
  },
  {
   "cell_type": "code",
   "execution_count": 19,
   "id": "measured-savings",
   "metadata": {},
   "outputs": [
    {
     "name": "stdout",
     "output_type": "stream",
     "text": [
      "R2: 0.6051432122982077\n",
      "Mean Square Error(MSE): 102.99217415591723\n",
      "Root Mean Square Error(RMSE): 10.148506006103421\n",
      "mean absolute error (MAE): 7.7253837655592354\n"
     ]
    }
   ],
   "source": [
    "print ('R2:',r2_score(y_test, y_pred))\n",
    "print ('Mean Square Error(MSE):',mean_squared_error(y_test, y_pred, squared=True))\n",
    "print ('Root Mean Square Error(RMSE):',mean_squared_error(y_test, y_pred, squared=False))\n",
    "print ('mean absolute error (MAE):',mean_absolute_error(y_test, y_pred))"
   ]
  }
 ],
 "metadata": {
  "kernelspec": {
   "display_name": "Python 3",
   "language": "python",
   "name": "python3"
  },
  "language_info": {
   "codemirror_mode": {
    "name": "ipython",
    "version": 3
   },
   "file_extension": ".py",
   "mimetype": "text/x-python",
   "name": "python",
   "nbconvert_exporter": "python",
   "pygments_lexer": "ipython3",
   "version": "3.9.1"
  }
 },
 "nbformat": 4,
 "nbformat_minor": 5
}
