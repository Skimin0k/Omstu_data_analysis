{
 "cells": [
  {
   "cell_type": "code",
   "execution_count": 3,
   "id": "architectural-athletics",
   "metadata": {},
   "outputs": [
    {
     "name": "stdout",
     "output_type": "stream",
     "text": [
      "pavel\n",
      "20\n",
      "pavel 20."
     ]
    }
   ],
   "source": [
    "name = input()\n",
    "age = int(input())\n",
    "\n",
    "print(name, age, sep = ' ', end = '.' )\n"
   ]
  },
  {
   "cell_type": "code",
   "execution_count": 23,
   "id": "under-validation",
   "metadata": {},
   "outputs": [
    {
     "name": "stdout",
     "output_type": "stream",
     "text": [
      "a > 5\n",
      "!true\n"
     ]
    }
   ],
   "source": [
    "# if\n",
    "\n",
    "a = 8\n",
    "if a < 5: \n",
    "    print('a < 5')\n",
    "elif a == 5:\n",
    "    print('a == 5')\n",
    "else:\n",
    "    print('a > 5')\n",
    "\n",
    "    \n",
    "    \n",
    "b = 'nice' if True else 'not nice' \n",
    "                                    #equals\n",
    "b = ('!true', '!false')[False] \n",
    "\n",
    "print(b)\n"
   ]
  },
  {
   "cell_type": "code",
   "execution_count": 26,
   "id": "speaking-porter",
   "metadata": {},
   "outputs": [
    {
     "name": "stdout",
     "output_type": "stream",
     "text": [
      "if not break\n"
     ]
    }
   ],
   "source": [
    "# while\n",
    "\n",
    "condition = True\n",
    "while condition:\n",
    "    #break\n",
    "    \n",
    "    condition = False\n",
    "else:\n",
    "    print('if not break')\n",
    "\n",
    "    "
   ]
  },
  {
   "cell_type": "code",
   "execution_count": 30,
   "id": "going-touch",
   "metadata": {},
   "outputs": [
    {
     "name": "stdout",
     "output_type": "stream",
     "text": [
      ".2\n",
      ".2\n",
      "equals\n"
     ]
    }
   ],
   "source": [
    "# вещественные числа\n",
    "\n",
    "x, y = float(input()), float(input())\n",
    "if abs(x - y) < 10 ** -6:\n",
    "    print('equals')\n",
    "else:\n",
    "    print('not equals')\n",
    "    \n",
    "# # ОКРУГЛЕНИЕ\n",
    "# int     - округляет в СТОРОНУ НУЛЯ\n",
    "# round   - округляет до БЛИЖАЙШЕГО ЦЕЛОГО \n",
    "# floor   - округляет в МЕНЬШУЮ сторону\n",
    "# ceil    - округляет в БОЛЬШУЮ сторону\n",
    "# #"
   ]
  },
  {
   "cell_type": "code",
   "execution_count": 46,
   "id": "another-franklin",
   "metadata": {},
   "outputs": [
    {
     "name": "stdout",
     "output_type": "stream",
     "text": [
      "4, 7\n",
      "herro worrd 2\n",
      "worrd drrow\n"
     ]
    }
   ],
   "source": [
    "# строки\n",
    "\n",
    "line = \"hello world\"\n",
    "print(line.find('o'), line.rfind('o'), sep = ', ')\n",
    "\n",
    "line = line.replace('l', 'r')                          # replace(old, new, count)\n",
    "print(line, line.count('o'), sep = ' ')\n",
    "\n",
    "print(line[-5:], line[:-6:-1])                                # срезы stringName[от: до: step]"
   ]
  },
  {
   "cell_type": "code",
   "execution_count": 52,
   "id": "heavy-colors",
   "metadata": {},
   "outputs": [
    {
     "name": "stdout",
     "output_type": "stream",
     "text": [
      "10\n",
      "5 7\n"
     ]
    }
   ],
   "source": [
    "# функции\n",
    "\n",
    "def sort(a, b):\n",
    "    global c\n",
    "    print(c)\n",
    "    return ((a,b), (b,a))[a>b]\n",
    "\n",
    "c = 10\n",
    "min, max = sort(7, 5)\n",
    "print(min, max, sep = ' ')"
   ]
  },
  {
   "cell_type": "code",
   "execution_count": 63,
   "id": "laughing-montana",
   "metadata": {},
   "outputs": [
    {
     "name": "stdout",
     "output_type": "stream",
     "text": [
      "1 2 3\n",
      "(1, 2, 3) 3\n",
      "0 1 2 3 4 5 6 7 8 9 1234\n",
      "\n",
      "[1234]\n"
     ]
    }
   ],
   "source": [
    "# контейнеры \n",
    "\n",
    "a, b, c = d =  (1,2,3)                                   # tuple\n",
    "print(a,b,c)\n",
    "print(d, len(d), sep = ' ')\n",
    "\n",
    "# iterable: list, set, string, tuple, dict, file\n",
    "for item in range(10):\n",
    "    print(item, end = ' ')\n",
    "    \n",
    "# tuple (...)\n",
    "# list  [...]\n",
    "# dict  {...}\n",
    "\n",
    "# при присвоении - копирование\n",
    "# при передаче в функцию - копировние\n",
    "\n",
    "# count(x)              - число вхождений x\n",
    "# index(x)              - позиция x #index(x, from) с определенной позиции\n",
    "\n",
    "\n",
    "# # VOID f( &C ):\n",
    "# append(x)             - добавляет в конец\n",
    "# extend(otherList)     - добавляет в конец содержимое другого контейнера\n",
    "# remove(x)             - удаляет первое вхождение x\n",
    "# insert(index, x)      - вставить x в позицию x со смещением вправо\n",
    "# reverse()             - переворот\n",
    "# pop()                 - удаление # pop(index)\n",
    "\n",
    "numList = list(map(int, input().split()))\n",
    "print()\n",
    "print(','.join(map(str, numList)))\n"
   ]
  },
  {
   "cell_type": "code",
   "execution_count": null,
   "id": "awful-archive",
   "metadata": {},
   "outputs": [],
   "source": [
    "#лямбда функции\n",
    "\n",
    "a = lambda x: x**2\n",
    "print(a(10))\n",
    "\n",
    "# map(function, items) использование function к каждому item\n",
    "print(list(map(lambda item: item ** 3, (1,2,3,4,5,6))))\n",
    "\n",
    "# filter(function, items) возврат значений, для которых function возвращает true\n",
    "print(*filter(lambda item: item < 0, (1,2,3, -1, -2, -3)))\n",
    "\n",
    "# reduce(fuctioon, items) func(func(a,b),c)...\n",
    "from functools import reduce\n",
    "print(reduce(lambda lhs, rhs: lhs + rhs, range(10)))\n",
    "\n",
    "# accumulate(items, function)  list( func(a,b), func(func(a,b), c), ...)\n",
    "from itertools import accumulate\n",
    "print(*accumulate(range(3), lambda lhs, rhs: (lhs, rhs)))\n"
   ]
  },
  {
   "cell_type": "code",
   "execution_count": 86,
   "id": "integral-archives",
   "metadata": {},
   "outputs": [
    {
     "name": "stdout",
     "output_type": "stream",
     "text": [
      "0\n",
      "1\n",
      "2\n",
      "3\n",
      "4\n",
      "5\n",
      "6\n",
      "7\n",
      "8\n",
      "9\n"
     ]
    }
   ],
   "source": [
    "#Работа со множествами\n",
    "\n",
    "# A | B объединение\n",
    "# A & B пересечение\n",
    "# A - B A без B\n",
    "# A ^ B без совпадающих элементов\n",
    "\n",
    "# A == B\n",
    "# A != B\n",
    "# A <= B Все элементы A входят в B\n",
    "# A < B  A<=B & A!=B\n"
   ]
  },
  {
   "cell_type": "code",
   "execution_count": 106,
   "id": "handmade-pizza",
   "metadata": {},
   "outputs": [
    {
     "name": "stdout",
     "output_type": "stream",
     "text": [
      "Альберт 4\n"
     ]
    }
   ],
   "source": [
    "class Human:\n",
    "    name, age\n",
    "    def __init__(self, Name = 'noname', Age = 0):\n",
    "        self.name = Name\n",
    "        self.age = Age\n",
    "# перегрузка методов по типу __init__ на сайте: https://pythonworld.ru/osnovy/peregruzka-operatorov.html\n",
    "# во избежания дублирования кода для одинаковых методов, можно присваивать один другому __mul__ = __rmul__\n",
    "\n",
    "h = Human('Альберт', 4)\n",
    "print(h.name, h.age, sep = ' ')"
   ]
  },
  {
   "cell_type": "code",
   "execution_count": 113,
   "id": "adjustable-weekly",
   "metadata": {},
   "outputs": [
    {
     "name": "stdout",
     "output_type": "stream",
     "text": [
      "('division by zero',)\n"
     ]
    }
   ],
   "source": [
    "try:\n",
    "    a = 4/0\n",
    "except ZeroDivisionError as e:\n",
    "    print(e.args)"
   ]
  },
  {
   "cell_type": "code",
   "execution_count": 4,
   "id": "weekly-editor",
   "metadata": {},
   "outputs": [
    {
     "name": "stdout",
     "output_type": "stream",
     "text": [
      "0 0 1 0 1 2 "
     ]
    }
   ],
   "source": [
    "from itertools import accumulate\n",
    "import collections\n",
    "\n",
    "def printall(nums):\n",
    "    for item in nums:\n",
    "        if isinstance(item, collections.Sequence):\n",
    "            printall(item)\n",
    "        else:\n",
    "            print(item, end = ' ')\n",
    "            \n",
    "printall(list(accumulate(range(3), lambda lhs, rhs: (lhs, rhs))))"
   ]
  }
 ],
 "metadata": {
  "kernelspec": {
   "display_name": "Python 3",
   "language": "python",
   "name": "python3"
  },
  "language_info": {
   "codemirror_mode": {
    "name": "ipython",
    "version": 3
   },
   "file_extension": ".py",
   "mimetype": "text/x-python",
   "name": "python",
   "nbconvert_exporter": "python",
   "pygments_lexer": "ipython3",
   "version": "3.9.1"
  }
 },
 "nbformat": 4,
 "nbformat_minor": 5
}
